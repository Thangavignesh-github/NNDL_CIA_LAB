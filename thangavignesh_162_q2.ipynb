{
 "cells": [
  {
   "cell_type": "markdown",
   "metadata": {},
   "source": [
    "Load the Dataset and Preprocess the Data"
   ]
  },
  {
   "cell_type": "code",
   "execution_count": 1,
   "metadata": {},
   "outputs": [],
   "source": [
    "import pandas as pd\n",
    "from sklearn.model_selection import train_test_split\n",
    "from sklearn.preprocessing import LabelEncoder\n",
    "from sklearn.feature_extraction.text import TfidfVectorizer\n",
    "\n",
    "# Load the dataset\n",
    "df = pd.read_csv(r\"D:\\sem5\\NNDL\\cia_lab\\Tweets.csv\")\n",
    "\n",
    "# Filter the required columns\n",
    "df = df[['text', 'airline_sentiment']]\n",
    "\n",
    "# Keep only positive and negative sentiments (remove neutral)\n",
    "df = df[df['airline_sentiment'] != 'neutral']\n",
    "\n",
    "# Encode the sentiment labels\n",
    "label_encoder = LabelEncoder()\n",
    "df['sentiment_label'] = label_encoder.fit_transform(df['airline_sentiment'])\n",
    "\n",
    "# Vectorize the text data using TF-IDF\n",
    "vectorizer = TfidfVectorizer(max_features=1000)\n",
    "X = vectorizer.fit_transform(df['text']).toarray()\n",
    "y = df['sentiment_label']\n",
    "\n",
    "# Split the data into train and test sets\n",
    "X_train, X_test, y_train, y_test = train_test_split(X, y, test_size=0.2, random_state=42)\n"
   ]
  },
  {
   "cell_type": "markdown",
   "metadata": {},
   "source": [
    "We load the dataset and extract relevant columns (text and airline_sentiment).\n",
    "\n",
    "Neutral sentiment is removed, keeping only positive and negative sentiments.\n",
    "\n",
    "Sentiment labels are encoded to 0 (negative) and 1 (positive).\n",
    "\n",
    "The tweets are transformed into numerical form using TF-IDF for a simple text representation."
   ]
  },
  {
   "cell_type": "markdown",
   "metadata": {},
   "source": [
    "Define a Simple Feed-Forward Neural Network"
   ]
  },
  {
   "cell_type": "code",
   "execution_count": 3,
   "metadata": {},
   "outputs": [],
   "source": [
    "import torch\n",
    "import torch.nn as nn\n",
    "import torch.optim as optim\n",
    "import matplotlib.pyplot as plt\n",
    "\n",
    "\n",
    "# Define the Neural Network architecture\n",
    "class SentimentNet(nn.Module):\n",
    "    def __init__(self, input_size):\n",
    "        super(SentimentNet, self).__init__()\n",
    "        self.fc1 = nn.Linear(input_size, 128)  # Fully connected layer\n",
    "        self.fc2 = nn.Linear(128, 1)  # Output layer for binary classification\n",
    "        self.sigmoid = nn.Sigmoid()\n",
    "\n",
    "    def forward(self, x):\n",
    "        x = torch.relu(self.fc1(x))  # Using ReLU for hidden layer\n",
    "        x = self.sigmoid(self.fc2(x))  # Sigmoid activation for output\n",
    "        return x\n",
    "\n",
    "\n",
    "# Initialize the model\n",
    "input_size = X_train.shape[1]\n",
    "model = SentimentNet(input_size)\n",
    "criterion = nn.BCELoss()  # Binary Cross Entropy Loss\n",
    "optimizer = optim.Adam(model.parameters(), lr=0.001)\n",
    "\n",
    "# Convert data to tensors (fix the ValueError)\n",
    "X_train_tensor = torch.tensor(X_train, dtype=torch.float32)\n",
    "y_train_tensor = torch.tensor(y_train.to_numpy(), dtype=torch.float32).view(-1, 1)\n",
    "X_test_tensor = torch.tensor(X_test, dtype=torch.float32)\n",
    "y_test_tensor = torch.tensor(y_test.to_numpy(), dtype=torch.float32).view(-1, 1)\n",
    "\n",
    "# Now the tensors are properly shaped and ready for training"
   ]
  },
  {
   "cell_type": "markdown",
   "metadata": {},
   "source": [
    " Use backpropagation to optimize the model's weights based on error calculation"
   ]
  },
  {
   "cell_type": "code",
   "execution_count": 4,
   "metadata": {},
   "outputs": [
    {
     "name": "stdout",
     "output_type": "stream",
     "text": [
      "Epoch [10/50], Loss: 0.6589\n",
      "Epoch [20/50], Loss: 0.5874\n",
      "Epoch [30/50], Loss: 0.5143\n",
      "Epoch [40/50], Loss: 0.4539\n",
      "Epoch [50/50], Loss: 0.4093\n"
     ]
    }
   ],
   "source": [
    "import torch\n",
    "import torch.nn as nn\n",
    "import torch.optim as optim\n",
    "\n",
    "\n",
    "# Define the Neural Network architecture with ReLU activation in hidden layer\n",
    "class SentimentNet(nn.Module):\n",
    "    def __init__(self, input_size):\n",
    "        super(SentimentNet, self).__init__()\n",
    "        self.fc1 = nn.Linear(input_size, 128)  # Fully connected layer\n",
    "        self.fc2 = nn.Linear(128, 1)  # Output layer for binary classification\n",
    "        self.sigmoid = nn.Sigmoid()  # Sigmoid for binary classification\n",
    "\n",
    "    def forward(self, x):\n",
    "        x = torch.relu(self.fc1(x))  # Using ReLU for hidden layer\n",
    "        x = self.sigmoid(self.fc2(x))  # Sigmoid activation for output\n",
    "        return x\n",
    "\n",
    "\n",
    "# Initialize the model\n",
    "input_size = X_train.shape[1]\n",
    "model = SentimentNet(input_size)\n",
    "criterion = nn.BCELoss()  # Binary Cross Entropy Loss\n",
    "optimizer = optim.Adam(model.parameters(), lr=0.001)\n",
    "\n",
    "# Training the model\n",
    "num_epochs = 50\n",
    "for epoch in range(num_epochs):\n",
    "    model.train()  # Set model to training mode\n",
    "    optimizer.zero_grad()  # Zero the gradients\n",
    "    outputs = model(X_train_tensor)  # Forward pass\n",
    "    loss = criterion(outputs, y_train_tensor)  # Calculate loss\n",
    "    loss.backward()  # Backward pass (backpropagation)\n",
    "    optimizer.step()  # Update the weights\n",
    "\n",
    "    if (epoch + 1) % 10 == 0:\n",
    "        print(f\"Epoch [{epoch+1}/{num_epochs}], Loss: {loss.item():.4f}\")"
   ]
  },
  {
   "cell_type": "markdown",
   "metadata": {},
   "source": [
    " Experiment with different activation functions (sigmoid, ReLU, tanh) in the hidden layer"
   ]
  },
  {
   "cell_type": "markdown",
   "metadata": {},
   "source": [
    "Sigmoid Activation"
   ]
  },
  {
   "cell_type": "code",
   "execution_count": 6,
   "metadata": {},
   "outputs": [],
   "source": [
    "# Define the Neural Network with Sigmoid activation in the hidden layer\n",
    "class SentimentNetSigmoid(nn.Module):\n",
    "    def __init__(self, input_size):\n",
    "        super(SentimentNetSigmoid, self).__init__()\n",
    "        self.fc1 = nn.Linear(input_size, 128)  # Fully connected layer\n",
    "        self.fc2 = nn.Linear(128, 1)  # Output layer\n",
    "        self.sigmoid = nn.Sigmoid()\n",
    "\n",
    "    def forward(self, x):\n",
    "        x = self.sigmoid(self.fc1(x))  # Sigmoid in hidden layer\n",
    "        x = self.sigmoid(self.fc2(x))  # Sigmoid for output\n",
    "        return x\n",
    "\n",
    "\n",
    "# Initialize model, criterion, and optimizer\n",
    "model_sigmoid = SentimentNetSigmoid(input_size)\n",
    "criterion = nn.BCELoss()\n",
    "optimizer = optim.Adam(model_sigmoid.parameters(), lr=0.001)\n",
    "\n",
    "# Train and evaluate model for Sigmoid activation\n",
    "# (reuse the training loop from the previous example)"
   ]
  },
  {
   "cell_type": "markdown",
   "metadata": {},
   "source": [
    "ReLU Activation"
   ]
  },
  {
   "cell_type": "code",
   "execution_count": 7,
   "metadata": {},
   "outputs": [],
   "source": [
    "# Define the Neural Network with ReLU activation in the hidden layer\n",
    "class SentimentNetReLU(nn.Module):\n",
    "    def __init__(self, input_size):\n",
    "        super(SentimentNetReLU, self).__init__()\n",
    "        self.fc1 = nn.Linear(input_size, 128)  # Fully connected layer\n",
    "        self.fc2 = nn.Linear(128, 1)  # Output layer\n",
    "        self.sigmoid = nn.Sigmoid()\n",
    "\n",
    "    def forward(self, x):\n",
    "        x = torch.relu(self.fc1(x))  # ReLU in hidden layer\n",
    "        x = self.sigmoid(self.fc2(x))  # Sigmoid for output\n",
    "        return x\n",
    "\n",
    "\n",
    "# Initialize model, criterion, and optimizer\n",
    "model_relu = SentimentNetReLU(input_size)\n",
    "criterion = nn.BCELoss()\n",
    "optimizer = optim.Adam(model_relu.parameters(), lr=0.001)\n",
    "\n",
    "# Train and evaluate model for ReLU activation\n",
    "# (reuse the training loop from the previous example)"
   ]
  },
  {
   "cell_type": "markdown",
   "metadata": {},
   "source": [
    " Tanh Activation"
   ]
  },
  {
   "cell_type": "code",
   "execution_count": 8,
   "metadata": {},
   "outputs": [],
   "source": [
    "# Define the Neural Network with Tanh activation in the hidden layer\n",
    "class SentimentNetTanh(nn.Module):\n",
    "    def __init__(self, input_size):\n",
    "        super(SentimentNetTanh, self).__init__()\n",
    "        self.fc1 = nn.Linear(input_size, 128)  # Fully connected layer\n",
    "        self.fc2 = nn.Linear(128, 1)  # Output layer\n",
    "        self.sigmoid = nn.Sigmoid()\n",
    "\n",
    "    def forward(self, x):\n",
    "        x = torch.tanh(self.fc1(x))  # Tanh in hidden layer\n",
    "        x = self.sigmoid(self.fc2(x))  # Sigmoid for output\n",
    "        return x\n",
    "\n",
    "\n",
    "# Initialize model, criterion, and optimizer\n",
    "model_tanh = SentimentNetTanh(input_size)\n",
    "criterion = nn.BCELoss()\n",
    "optimizer = optim.Adam(model_tanh.parameters(), lr=0.001)\n",
    "\n",
    "# Train and evaluate model for Tanh activation\n",
    "# (reuse the training loop from the previous example)"
   ]
  },
  {
   "cell_type": "markdown",
   "metadata": {},
   "source": [
    "Training and Evaluating All Models"
   ]
  },
  {
   "cell_type": "markdown",
   "metadata": {},
   "source": [
    "Training Loop Example (common for all)"
   ]
  },
  {
   "cell_type": "code",
   "execution_count": 9,
   "metadata": {},
   "outputs": [
    {
     "name": "stdout",
     "output_type": "stream",
     "text": [
      "Epoch [10/50], Loss: 0.6952\n",
      "Epoch [20/50], Loss: 0.6952\n",
      "Epoch [30/50], Loss: 0.6952\n",
      "Epoch [40/50], Loss: 0.6952\n",
      "Epoch [50/50], Loss: 0.6952\n",
      "Epoch [10/50], Loss: 0.7146\n",
      "Epoch [20/50], Loss: 0.7146\n",
      "Epoch [30/50], Loss: 0.7146\n",
      "Epoch [40/50], Loss: 0.7146\n",
      "Epoch [50/50], Loss: 0.7146\n",
      "Epoch [10/50], Loss: 0.6062\n",
      "Epoch [20/50], Loss: 0.5273\n",
      "Epoch [30/50], Loss: 0.4612\n",
      "Epoch [40/50], Loss: 0.4180\n",
      "Epoch [50/50], Loss: 0.3874\n",
      "Sigmoid Test Accuracy: 0.1936\n",
      "ReLU Test Accuracy: 0.1936\n",
      "Tanh Test Accuracy: 0.8207\n"
     ]
    }
   ],
   "source": [
    "def train_model(model):\n",
    "    num_epochs = 50\n",
    "    losses = []\n",
    "    for epoch in range(num_epochs):\n",
    "        model.train()  # Set model to training mode\n",
    "        optimizer.zero_grad()  # Zero the gradients\n",
    "        outputs = model(X_train_tensor)  # Forward pass\n",
    "        loss = criterion(outputs, y_train_tensor)  # Calculate loss\n",
    "        loss.backward()  # Backpropagation\n",
    "        optimizer.step()  # Update the weights\n",
    "\n",
    "        losses.append(loss.item())  # Store loss\n",
    "        if (epoch + 1) % 10 == 0:\n",
    "            print(f\"Epoch [{epoch+1}/{num_epochs}], Loss: {loss.item():.4f}\")\n",
    "\n",
    "    return losses\n",
    "\n",
    "\n",
    "# Train the three models\n",
    "loss_sigmoid = train_model(model_sigmoid)\n",
    "loss_relu = train_model(model_relu)\n",
    "loss_tanh = train_model(model_tanh)\n",
    "\n",
    "\n",
    "# Evaluate on test set\n",
    "def evaluate_model(model):\n",
    "    model.eval()\n",
    "    with torch.no_grad():\n",
    "        test_outputs = model(X_test_tensor)\n",
    "        predicted = (test_outputs > 0.5).float()\n",
    "        accuracy = (predicted == y_test_tensor).sum() / y_test_tensor.shape[0]\n",
    "    return accuracy.item()\n",
    "\n",
    "\n",
    "acc_sigmoid = evaluate_model(model_sigmoid)\n",
    "acc_relu = evaluate_model(model_relu)\n",
    "acc_tanh = evaluate_model(model_tanh)\n",
    "\n",
    "print(f\"Sigmoid Test Accuracy: {acc_sigmoid:.4f}\")\n",
    "print(f\"ReLU Test Accuracy: {acc_relu:.4f}\")\n",
    "print(f\"Tanh Test Accuracy: {acc_tanh:.4f}\")"
   ]
  },
  {
   "cell_type": "markdown",
   "metadata": {},
   "source": [
    "ReLU: Typically performs better than sigmoid and tanh because it avoids vanishing gradients in the hidden layer and converges faster. It tends to produce higher accuracy on deeper networks."
   ]
  },
  {
   "cell_type": "markdown",
   "metadata": {},
   "source": [
    "Plotting Loss Over Epochs for Each Activation Function"
   ]
  },
  {
   "cell_type": "code",
   "execution_count": 10,
   "metadata": {},
   "outputs": [
    {
     "data": {
      "image/png": "[encoded data removed]",
      "text/plain": [
       "<Figure size 640x480 with 1 Axes>"
      ]
     },
     "metadata": {},
     "output_type": "display_data"
    }
   ],
   "source": [
    "# Plot the losses for each activation function\n",
    "plt.plot(range(50), loss_sigmoid, label=\"Sigmoid\")\n",
    "plt.plot(range(50), loss_relu, label=\"ReLU\")\n",
    "plt.plot(range(50), loss_tanh, label=\"Tanh\")\n",
    "plt.title(\"Loss Over Epochs for Different Activation Functions\")\n",
    "plt.xlabel(\"Epochs\")\n",
    "plt.ylabel(\"Loss\")\n",
    "plt.legend()\n",
    "plt.show()"
   ]
  }
 ],
 "metadata": {
  "kernelspec": {
   "display_name": "Python 3",
   "language": "python",
   "name": "python3"
  },
  "language_info": {
   "codemirror_mode": {
    "name": "ipython",
    "version": 3
   },
   "file_extension": ".py",
   "mimetype": "text/x-python",
   "name": "python",
   "nbconvert_exporter": "python",
   "pygments_lexer": "ipython3",
   "version": "3.11.4"
  }
 },
 "nbformat": 4,
 "nbformat_minor": 2
}
