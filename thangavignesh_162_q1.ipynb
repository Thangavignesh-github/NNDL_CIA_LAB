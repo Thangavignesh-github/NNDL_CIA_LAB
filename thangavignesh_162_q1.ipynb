{
 "cells": [
  {
   "cell_type": "markdown",
   "metadata": {},
   "source": [
    "Creating the XOR gate's truth table dataset"
   ]
  },
  {
   "cell_type": "code",
   "execution_count": 6,
   "metadata": {},
   "outputs": [
    {
     "name": "stdout",
     "output_type": "stream",
     "text": [
      "Input Data (X):\n",
      " [[0 0]\n",
      " [0 1]\n",
      " [1 0]\n",
      " [1 1]]\n",
      "Output Data (y):\n",
      " [0 1 1 0]\n"
     ]
    }
   ],
   "source": [
    "import numpy as np\n",
    "\n",
    "# XOR truth table inputs and outputs\n",
    "X = np.array([[0, 0], [0, 1], [1, 0], [1, 1]])  # Inputs\n",
    "y = np.array([0, 1, 1, 0])  # Outputs\n",
    "\n",
    "\n",
    "print(\"Input Data (X):\\n\", X)\n",
    "print(\"Output Data (y):\\n\", y)"
   ]
  },
  {
   "cell_type": "markdown",
   "metadata": {},
   "source": [
    " Implementing the Single Layer Perceptron using MCP Neuron\n",
    "\n",
    " Since XOR is not linearly separable, a single layer perceptron will fail to classify the XOR gate correctly."
   ]
  },
  {
   "cell_type": "code",
   "execution_count": 7,
   "metadata": {},
   "outputs": [
    {
     "name": "stdout",
     "output_type": "stream",
     "text": [
      "Input: [0 0], Prediction: 1\n",
      "Input: [0 1], Prediction: 1\n",
      "Input: [1 0], Prediction: 0\n",
      "Input: [1 1], Prediction: 0\n"
     ]
    }
   ],
   "source": [
    "class Perceptron:\n",
    "    def __init__(self, input_size, lr=0.1):\n",
    "        self.weights = np.zeros(input_size + 1)  # +1 for bias term\n",
    "        self.lr = lr\n",
    "\n",
    "    def activation_fn(self, x):\n",
    "        return 1 if x >= 0 else 0\n",
    "\n",
    "    def predict(self, x):\n",
    "        # Weighted sum of inputs + bias (weights[-1] is the bias)\n",
    "        z = np.dot(x, self.weights[:-1]) + self.weights[-1]\n",
    "        return self.activation_fn(z)\n",
    "\n",
    "    def train(self, X, y, epochs=10):\n",
    "        for _ in range(epochs):\n",
    "            for inputs, label in zip(X, y):\n",
    "                prediction = self.predict(inputs)\n",
    "                # Update weights\n",
    "                self.weights[:-1] += self.lr * (label - prediction) * inputs\n",
    "                self.weights[-1] += self.lr * (label - prediction)  # Bias update\n",
    "\n",
    "\n",
    "# Initialize Perceptron and train it on XOR dataset\n",
    "perceptron = Perceptron(input_size=2)\n",
    "perceptron.train(X, y, epochs=10)\n",
    "\n",
    "# Test perceptron on XOR dataset\n",
    "for inputs in X:\n",
    "    print(f\"Input: {inputs}, Prediction: {perceptron.predict(inputs)}\")"
   ]
  },
  {
   "cell_type": "markdown",
   "metadata": {},
   "source": [
    " Visualize the Single Layer Perceptron's Decision Boundary"
   ]
  },
  {
   "cell_type": "code",
   "execution_count": 8,
   "metadata": {},
   "outputs": [
    {
     "data": {
      "image/png": "[encoded data removed]",
      "text/plain": [
       "<Figure size 640x480 with 1 Axes>"
      ]
     },
     "metadata": {},
     "output_type": "display_data"
    }
   ],
   "source": [
    "import matplotlib.pyplot as plt\n",
    "\n",
    "\n",
    "def plot_decision_boundary(X, model, title):\n",
    "    x_min, x_max = X[:, 0].min() - 0.1, X[:, 0].max() + 0.1\n",
    "    y_min, y_max = X[:, 1].min() - 0.1, X[:, 1].max() + 0.1\n",
    "    xx, yy = np.meshgrid(np.arange(x_min, x_max, 0.01), np.arange(y_min, y_max, 0.01))\n",
    "\n",
    "    Z = np.array(\n",
    "        [model.predict(np.array([x1, x2])) for x1, x2 in zip(xx.ravel(), yy.ravel())]\n",
    "    )\n",
    "    Z = Z.reshape(xx.shape)\n",
    "\n",
    "    plt.contourf(xx, yy, Z, alpha=0.8, cmap=plt.cm.Paired)\n",
    "    plt.scatter(X[:, 0], X[:, 1], c=y, edgecolors=\"k\", marker=\"o\")\n",
    "    plt.title(title)\n",
    "    plt.show()\n",
    "\n",
    "\n",
    "# Visualize decision boundary for the Single Layer Perceptron\n",
    "plot_decision_boundary(\n",
    "    X, perceptron, \"Decision Boundary for Single Layer Perceptron (XOR)\"\n",
    ")"
   ]
  },
  {
   "cell_type": "markdown",
   "metadata": {},
   "source": [
    "# Observing the Perceptron's Performance\n",
    "\n",
    "When running the SLP code, you will notice that the perceptron struggles to classify the XOR gate correctly. Since XOR is not linearly separable, the SLP fails to find a decision boundary that can separate the input points of the XOR dataset. You might see inconsistent or inaccurate predictions despite training over multiple epochs.\n",
    "\n",
    "This confirms the theoretical limitation of SLPs for problems like XOR, where the data points cannot be separated by a straight line in a 2D space."
   ]
  },
  {
   "cell_type": "markdown",
   "metadata": {},
   "source": [
    " Implementing XOR using Multi-Layer Perceptron (MLP)\n",
    " "
   ]
  },
  {
   "cell_type": "code",
   "execution_count": 11,
   "metadata": {},
   "outputs": [
    {
     "name": "stdout",
     "output_type": "stream",
     "text": [
      "XOR Truth Table:\n",
      "Input A  |  Input B  |  Output\n",
      "  0      |    0    |    0\n",
      "  0      |    1    |    1\n",
      "  1      |    0    |    1\n",
      "  1      |    1    |    0\n",
      "\u001b[1m1/1\u001b[0m \u001b[32m━━━━━━━━━━━━━━━━━━━━\u001b[0m\u001b[37m\u001b[0m \u001b[1m0s\u001b[0m 88ms/step - accuracy: 0.5000 - loss: 0.6815\n",
      "\n",
      "Model Accuracy: 50.00%\n",
      "\n",
      "MLP Predictions on XOR Dataset:\n",
      "\u001b[1m1/1\u001b[0m \u001b[32m━━━━━━━━━━━━━━━━━━━━\u001b[0m\u001b[37m\u001b[0m \u001b[1m0s\u001b[0m 22ms/step\n",
      "Input: [0 0], Prediction: 0.5189\n",
      "\u001b[1m1/1\u001b[0m \u001b[32m━━━━━━━━━━━━━━━━━━━━\u001b[0m\u001b[37m\u001b[0m \u001b[1m0s\u001b[0m 16ms/step\n",
      "Input: [0 1], Prediction: 0.5189\n",
      "\u001b[1m1/1\u001b[0m \u001b[32m━━━━━━━━━━━━━━━━━━━━\u001b[0m\u001b[37m\u001b[0m \u001b[1m0s\u001b[0m 8ms/step\n",
      "Input: [1 0], Prediction: 0.4766\n",
      "\u001b[1m1/1\u001b[0m \u001b[32m━━━━━━━━━━━━━━━━━━━━\u001b[0m\u001b[37m\u001b[0m \u001b[1m0s\u001b[0m 17ms/step\n",
      "Input: [1 1], Prediction: 0.4497\n"
     ]
    }
   ],
   "source": [
    "from keras.models import Sequential\n",
    "from keras.layers import Dense, Input\n",
    "\n",
    "# XOR truth table inputs and outputs\n",
    "X = np.array([[0, 0], [0, 1], [1, 0], [1, 1]])  # Inputs\n",
    "y = np.array([0, 1, 1, 0])  # Outputs\n",
    "\n",
    "# Print the XOR truth table\n",
    "print(\"XOR Truth Table:\")\n",
    "print(f\"Input A  |  Input B  |  Output\")\n",
    "for i, (input_pair, output) in enumerate(zip(X, y)):\n",
    "    print(f\"  {input_pair[0]}      |    {input_pair[1]}    |    {output}\")\n",
    "\n",
    "# Create the MLP model\n",
    "mlp = Sequential()\n",
    "mlp.add(Input(shape=(2,)))  # Explicit input layer\n",
    "mlp.add(Dense(units=2, activation=\"relu\"))  # Hidden layer with 2 neurons\n",
    "mlp.add(Dense(units=1, activation=\"sigmoid\"))  # Output layer\n",
    "\n",
    "# Compile the model\n",
    "mlp.compile(optimizer=\"adam\", loss=\"binary_crossentropy\", metrics=[\"accuracy\"])\n",
    "\n",
    "# Train the model\n",
    "history = mlp.fit(X, y, epochs=100, verbose=0)\n",
    "\n",
    "# Evaluate the model\n",
    "loss, accuracy = mlp.evaluate(X, y)\n",
    "print(f\"\\nModel Accuracy: {accuracy * 100:.2f}%\")\n",
    "\n",
    "# Test MLP on XOR dataset\n",
    "print(\"\\nMLP Predictions on XOR Dataset:\")\n",
    "for inputs in X:\n",
    "    prediction = mlp.predict(np.expand_dims(inputs, axis=0))\n",
    "    print(f\"Input: {inputs}, Prediction: {prediction[0][0]:.4f}\")"
   ]
  },
  {
   "cell_type": "markdown",
   "metadata": {},
   "source": [
    "Visualization for MLP "
   ]
  },
  {
   "cell_type": "code",
   "execution_count": 13,
   "metadata": {},
   "outputs": [
    {
     "name": "stdout",
     "output_type": "stream",
     "text": [
      "\u001b[1m458/458\u001b[0m \u001b[32m━━━━━━━━━━━━━━━━━━━━\u001b[0m\u001b[37m\u001b[0m \u001b[1m0s\u001b[0m 419us/step\n"
     ]
    },
    {
     "data": {
      "image/png": "[encoded data removed]",
      "text/plain": [
       "<Figure size 640x480 with 1 Axes>"
      ]
     },
     "metadata": {},
     "output_type": "display_data"
    }
   ],
   "source": [
    "import numpy as np\n",
    "import matplotlib.pyplot as plt\n",
    "from matplotlib.colors import ListedColormap\n",
    "\n",
    "\n",
    "# Visualization of the decision boundary\n",
    "def plot_decision_boundary(model, X, y):\n",
    "    # Set the min and max values for the meshgrid\n",
    "    x_min, x_max = X[:, 0].min() - 0.1, X[:, 0].max() + 0.1\n",
    "    y_min, y_max = X[:, 1].min() - 0.1, X[:, 1].max() + 0.1\n",
    "    xx, yy = np.meshgrid(np.arange(x_min, x_max, 0.01), np.arange(y_min, y_max, 0.01))\n",
    "\n",
    "    # Predict the model's output on the entire grid\n",
    "    grid = np.c_[xx.ravel(), yy.ravel()]\n",
    "    predictions = model.predict(grid).reshape(xx.shape)\n",
    "\n",
    "    # Create a contour plot for the decision boundary\n",
    "    plt.contourf(\n",
    "        xx, yy, predictions, cmap=ListedColormap([\"#FFAAAA\", \"#AAAAFF\"]), alpha=0.8\n",
    "    )\n",
    "\n",
    "    # Plot the actual points\n",
    "    plt.scatter(\n",
    "        X[:, 0],\n",
    "        X[:, 1],\n",
    "        c=y,\n",
    "        cmap=ListedColormap([\"#FF0000\", \"#0000FF\"]),\n",
    "        edgecolors=\"k\",\n",
    "        s=100,\n",
    "    )\n",
    "    plt.title(\"MLP Decision Boundary for XOR\")\n",
    "    plt.xlabel(\"Input A\")\n",
    "    plt.ylabel(\"Input B\")\n",
    "    plt.show()\n",
    "\n",
    "\n",
    "# Call the function to visualize the decision boundary\n",
    "plot_decision_boundary(mlp, X, y)"
   ]
  }
 ],
 "metadata": {
  "kernelspec": {
   "display_name": "Python 3",
   "language": "python",
   "name": "python3"
  },
  "language_info": {
   "codemirror_mode": {
    "name": "ipython",
    "version": 3
   },
   "file_extension": ".py",
   "mimetype": "text/x-python",
   "name": "python",
   "nbconvert_exporter": "python",
   "pygments_lexer": "ipython3",
   "version": "3.11.4"
  }
 },
 "nbformat": 4,
 "nbformat_minor": 2
}
